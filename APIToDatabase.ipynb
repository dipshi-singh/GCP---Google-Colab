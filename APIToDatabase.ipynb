{
  "nbformat": 4,
  "nbformat_minor": 0,
  "metadata": {
    "colab": {
      "provenance": [],
      "authorship_tag": "ABX9TyO4nTc3R8hV5SwSkrcdQ3+6",
      "include_colab_link": true
    },
    "kernelspec": {
      "name": "python3",
      "display_name": "Python 3"
    },
    "language_info": {
      "name": "python"
    }
  },
  "cells": [
    {
      "cell_type": "markdown",
      "metadata": {
        "id": "view-in-github",
        "colab_type": "text"
      },
      "source": [
        "<a href=\"https://colab.research.google.com/github/dipshi-singh/GCP---Google-Colab/blob/main/APIToDatabase.ipynb\" target=\"_parent\"><img src=\"https://colab.research.google.com/assets/colab-badge.svg\" alt=\"Open In Colab\"/></a>"
      ]
    },
    {
      "cell_type": "code",
      "source": [
        "import psycopg2\n",
        "\n",
        "try:\n",
        "  conn = psycopg2.connect(\n",
        "      dbname=\"\",\n",
        "      user=\"\",\n",
        "      password=\"\",\n",
        "      host=\"\",\n",
        "      port=\"\"\n",
        "  )\n",
        "  print(\"Connection successful!\")\n",
        "  conn.close()\n",
        "except Exception as e:\n",
        "    print(\"Connection failed.\")\n",
        "    print(e)\n"
      ],
      "metadata": {
        "colab": {
          "base_uri": "https://localhost:8080/"
        },
        "id": "T2R2WSsJflYL",
        "outputId": "7860408e-ac43-40a9-d628-4ec0d0c431d5"
      },
      "execution_count": 5,
      "outputs": [
        {
          "output_type": "stream",
          "name": "stdout",
          "text": [
            "Connection successful!\n"
          ]
        }
      ]
    },
    {
      "cell_type": "code",
      "source": [
        "import requests\n",
        "import pandas as pd\n",
        "import psycopg2\n",
        "from sqlalchemy import create_engine\n",
        "\n",
        "# Fetch data from API\n",
        "response = requests.get('https://fakestoreapi.com/products')\n",
        "data = response.json()\n",
        "\n",
        "# Convert JSON to DataFrame\n",
        "df = pd.json_normalize(data)\n",
        "\n",
        "# Define PostgreSQL connection parameters\n",
        "db_params = {\n",
        "    'dbname': '',\n",
        "    'user': '',\n",
        "    'password': '',\n",
        "    'host': '',\n",
        "    'port': ''\n",
        "}\n",
        "\n",
        "# Create SQLAlchemy engine for pandas\n",
        "engine = create_engine(f'postgresql+psycopg2://{db_params[\"user\"]}:{db_params[\"password\"]}@{db_params[\"host\"]}:{db_params[\"port\"]}/{db_params[\"dbname\"]}')\n",
        "\n",
        "# Write DataFrame to PostgreSQL table\n",
        "df.to_sql('products', engine, if_exists='replace', index=False)\n",
        "\n",
        "print(\"Data successfully inserted into PostgreSQL.\")\n"
      ],
      "metadata": {
        "colab": {
          "base_uri": "https://localhost:8080/"
        },
        "id": "QW-IVB8NozyK",
        "outputId": "101e0f7e-ede4-4f17-eec4-9145bbb04515"
      },
      "execution_count": 9,
      "outputs": [
        {
          "output_type": "stream",
          "name": "stdout",
          "text": [
            "Data successfully inserted into PostgreSQL.\n"
          ]
        }
      ]
    },
    {
      "cell_type": "code",
      "source": [],
      "metadata": {
        "id": "cJsrZ9FI1ad3"
      },
      "execution_count": null,
      "outputs": []
    }
  ]
}