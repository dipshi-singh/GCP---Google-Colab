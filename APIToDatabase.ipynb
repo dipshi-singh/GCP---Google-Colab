{
  "nbformat": 4,
  "nbformat_minor": 0,
  "metadata": {
    "colab": {
      "provenance": [],
      "authorship_tag": "ABX9TyPzP7wKltgUilifwR0JswUT",
      "include_colab_link": true
    },
    "kernelspec": {
      "name": "python3",
      "display_name": "Python 3"
    },
    "language_info": {
      "name": "python"
    }
  },
  "cells": [
    {
      "cell_type": "markdown",
      "metadata": {
        "id": "view-in-github",
        "colab_type": "text"
      },
      "source": [
        "<a href=\"https://colab.research.google.com/github/dipshi-singh/GCP---Google-Colab/blob/main/APIToDatabase.ipynb\" target=\"_parent\"><img src=\"https://colab.research.google.com/assets/colab-badge.svg\" alt=\"Open In Colab\"/></a>"
      ]
    },
    {
      "cell_type": "code",
      "source": [
        "import psycopg2\n",
        "\n",
        "try:\n",
        "  conn = psycopg2.connect(\n",
        "      dbname=\"\",\n",
        "      user=\"\",\n",
        "      password=\"\",\n",
        "      host=\"\",\n",
        "      port=\"\"\n",
        "  )\n",
        "  print(\"Connection successful!\")\n",
        "  conn.close()\n",
        "except Exception as e:\n",
        "    print(\"Connection failed.\")\n",
        "    print(e)\n"
      ],
      "metadata": {
        "colab": {
          "base_uri": "https://localhost:8080/"
        },
        "id": "T2R2WSsJflYL",
        "outputId": "7860408e-ac43-40a9-d628-4ec0d0c431d5"
      },
      "execution_count": 5,
      "outputs": [
        {
          "output_type": "stream",
          "name": "stdout",
          "text": [
            "Connection successful!\n"
          ]
        }
      ]
    },
    {
      "cell_type": "code",
      "source": [
        "import requests\n",
        "import pandas as pd\n",
        "import psycopg2\n",
        "from sqlalchemy import create_engine\n",
        "\n",
        "# Fetch data from API\n",
        "response = requests.get('https://fakestoreapi.com/products')\n",
        "data = response.json()\n",
        "\n",
        "# Convert JSON to DataFrame\n",
        "df = pd.json_normalize(data)\n",
        "\n",
        "# Define PostgreSQL connection parameters\n",
        "db_params = {\n",
        "    'dbname': '',\n",
        "    'user': '',\n",
        "    'password': '',\n",
        "    'host': '',\n",
        "    'port': ''\n",
        "}\n",
        "\n",
        "# Create SQLAlchemy engine for pandas\n",
        "engine = create_engine(f'postgresql+psycopg2://{db_params[\"user\"]}:{db_params[\"password\"]}@{db_params[\"host\"]}:{db_params[\"port\"]}/{db_params[\"dbname\"]}')\n",
        "\n",
        "# Write DataFrame to PostgreSQL table\n",
        "df.to_sql('products', engine, if_exists='replace', index=False)\n",
        "\n",
        "print(\"Data successfully inserted into PostgreSQL.\")\n"
      ],
      "metadata": {
        "colab": {
          "base_uri": "https://localhost:8080/"
        },
        "id": "QW-IVB8NozyK",
        "outputId": "101e0f7e-ede4-4f17-eec4-9145bbb04515"
      },
      "execution_count": 9,
      "outputs": [
        {
          "output_type": "stream",
          "name": "stdout",
          "text": [
            "Data successfully inserted into PostgreSQL.\n"
          ]
        }
      ]
    },
    {
      "cell_type": "code",
      "source": [
        "import pandas as pd\n",
        "import psycopg2\n",
        "\n",
        "# Database connection parameters\n",
        "db_params = {\n",
        "    'dbname': '',\n",
        "    'user': '',\n",
        "    'password': '',\n",
        "    'host': '',  # e.g., 'localhost' or '0.0.0.0' for Docker container\n",
        "    'port': ''\n",
        "}\n",
        "\n",
        "# Create a connection\n",
        "conn = psycopg2.connect(**db_params)\n",
        "\n",
        "# Define your SQL query\n",
        "query = 'SELECT * FROM products'\n",
        "\n",
        "# Load data into a pandas DataFrame\n",
        "df = pd.read_sql_query(query, conn)\n",
        "\n",
        "# Close the connection\n",
        "conn.close()\n",
        "\n",
        "# Display the DataFrame\n",
        "print(df.head())\n"
      ],
      "metadata": {
        "id": "cJsrZ9FI1ad3",
        "colab": {
          "base_uri": "https://localhost:8080/"
        },
        "outputId": "fa8a606a-f8ce-4e63-aa0a-4b45a144a59e"
      },
      "execution_count": 10,
      "outputs": [
        {
          "output_type": "stream",
          "name": "stderr",
          "text": [
            "<ipython-input-10-4e246926da3b>:20: UserWarning: pandas only supports SQLAlchemy connectable (engine/connection) or database string URI or sqlite3 DBAPI2 connection. Other DBAPI2 objects are not tested. Please consider using SQLAlchemy.\n",
            "  df = pd.read_sql_query(query, conn)\n"
          ]
        },
        {
          "output_type": "stream",
          "name": "stdout",
          "text": [
            "   id                                              title   price  \\\n",
            "0   1  Fjallraven - Foldsack No. 1 Backpack, Fits 15 ...  109.95   \n",
            "1   2             Mens Casual Premium Slim Fit T-Shirts    22.30   \n",
            "2   3                                 Mens Cotton Jacket   55.99   \n",
            "3   4                               Mens Casual Slim Fit   15.99   \n",
            "4   5  John Hardy Women's Legends Naga Gold & Silver ...  695.00   \n",
            "\n",
            "                                         description        category  \\\n",
            "0  Your perfect pack for everyday use and walks i...  men's clothing   \n",
            "1  Slim-fitting style, contrast raglan long sleev...  men's clothing   \n",
            "2  great outerwear jackets for Spring/Autumn/Wint...  men's clothing   \n",
            "3  The color could be slightly different between ...  men's clothing   \n",
            "4  From our Legends Collection, the Naga was insp...        jewelery   \n",
            "\n",
            "                                               image  rating.rate  \\\n",
            "0  https://fakestoreapi.com/img/81fPKd-2AYL._AC_S...          3.9   \n",
            "1  https://fakestoreapi.com/img/71-3HjGNDUL._AC_S...          4.1   \n",
            "2  https://fakestoreapi.com/img/71li-ujtlUL._AC_U...          4.7   \n",
            "3  https://fakestoreapi.com/img/71YXzeOuslL._AC_U...          2.1   \n",
            "4  https://fakestoreapi.com/img/71pWzhdJNwL._AC_U...          4.6   \n",
            "\n",
            "   rating.count  \n",
            "0           120  \n",
            "1           259  \n",
            "2           500  \n",
            "3           430  \n",
            "4           400  \n"
          ]
        }
      ]
    },
    {
      "cell_type": "code",
      "source": [],
      "metadata": {
        "id": "fTSiIniL3wnv"
      },
      "execution_count": null,
      "outputs": []
    }
  ]
}